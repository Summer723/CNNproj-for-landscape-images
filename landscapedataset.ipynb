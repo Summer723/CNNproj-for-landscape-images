{
 "cells": [
  {
   "cell_type": "code",
   "execution_count": 55,
   "id": "3f15d991-7bcb-4074-ba06-562331f34652",
   "metadata": {},
   "outputs": [],
   "source": [
    "import torch\n",
    "from torch.utils.data import Dataset, DataLoader\n",
    "import os\n",
    "import pandas as pd\n",
    "from torchvision.io import read_image\n",
    "from PIL import Image\n",
    "from torchvision.transforms import ToTensor\n",
    "import re\n"
   ]
  },
  {
   "cell_type": "code",
   "execution_count": 56,
   "id": "58ddf923-a9d8-4746-b999-501ed7fb145a",
   "metadata": {},
   "outputs": [],
   "source": [
    "# here we want to write a dataloader for the dataset such that it would be easier to use later "
   ]
  },
  {
   "cell_type": "code",
   "execution_count": 57,
   "id": "d592bf1e-78f9-40a7-a938-3cf0e68c185f",
   "metadata": {},
   "outputs": [],
   "source": [
    "category = {\n",
    "            'forest': 0, 'buildings': 1, 'river': 2, 'mobilehomepark': 3,\n",
    "             'harbor': 4, 'golfcourse': 5, 'agricultural': 6, \n",
    "             'runway': 7, 'baseballdiamond' : 8, 'overpass' : 9, 'chaparral':10, \n",
    "             'tenniscourt':11, 'intersection':12, 'airplane':13, 'parkinglot':14, \n",
    "             'sparseresidential':15, 'mediumresidential':16, 'denseresidential':17, \n",
    "             'beach':18, 'freeway':19, 'storagetanks':20\n",
    "}\n"
   ]
  },
  {
   "cell_type": "code",
   "execution_count": 58,
   "id": "d982ccd9-b53f-49db-a54f-36022b6dce93",
   "metadata": {},
   "outputs": [],
   "source": [
    "data = os.listdir(\"/Users/summer/desktop/CNNproj-for-landscape-images/data/UCMerced_LandUse/WholeDataset\")\n",
    "labels = torch.zeros(len(data))\n",
    "for i in range (len(data)):\n",
    "    labels[i] = category[re.findall('([a-zA-Z ]+)\\d*.*', data[i])[0]]"
   ]
  },
  {
   "cell_type": "code",
   "execution_count": 59,
   "id": "ba3cd190-26c3-4ee2-b004-55e895a8cab9",
   "metadata": {},
   "outputs": [],
   "source": [
    "class LandscapeDataset(Dataset):\n",
    "    # here label is a 100 element tensor\n",
    "    def __init__(self, label, img_dir, transform=None, target_transform=None):\n",
    "        self.img_labels = label\n",
    "        self.img_dir = img_dir\n",
    "        self.transform = transform\n",
    "        self.target_transform = target_transform\n",
    "\n",
    "    def __len__(self):\n",
    "        return len(self.img_labels)\n",
    "\n",
    "    def __getitem__(self, idx):\n",
    "        path_to_data = self.img_dir + \"/\" + os.listdir(self.img_dir)[idx]\n",
    "        image = Image.open(path_to_data)\n",
    "        \n",
    "        # make it a tensor\n",
    "        image = ToTensor()(image)\n",
    "        label = self.img_labels[idx]\n",
    "        \n",
    "        if self.transform:\n",
    "            image = self.transform(image)\n",
    "        if self.target_transform:\n",
    "            label = self.target_transform(label)\n",
    "        return image, label"
   ]
  },
  {
   "cell_type": "code",
   "execution_count": 60,
   "id": "59c86bdc-376d-4e33-9a76-4fb5db6d9999",
   "metadata": {},
   "outputs": [],
   "source": [
    "dataset = LandscapeDataset(\n",
    "                            labels, \n",
    "                           \"/Users/summer/desktop/CNNproj-for-landscape-images/data/UCMerced_LandUse/WholeDataset\",\n",
    "                          )"
   ]
  },
  {
   "cell_type": "code",
   "execution_count": 61,
   "id": "ddba191b-9cbb-473e-a0a2-5d7caef08253",
   "metadata": {},
   "outputs": [],
   "source": [
    "# torch.utils.data.DataLoader(dataset, batch_size=1, shuffle=None, sampler=None, batch_sampler=None, \n",
    "#                             num_workers=0, collate_fn=None, pin_memory=False, drop_last=False, timeout=0, \n",
    "#                             worker_init_fn=None, multiprocessing_context=None, generator=None, *, \n",
    "#                             prefetch_factor=2, persistent_workers=False, pin_memory_device='')"
   ]
  },
  {
   "cell_type": "code",
   "execution_count": 62,
   "id": "aafe0249-7e0d-4359-97c0-0d9392de4db6",
   "metadata": {},
   "outputs": [],
   "source": [
    "# torch.utils.data.random_split(dataset, [#element in the first set, #element in the second set, ....], generator=torch.Generator().manual_seed(int))\n",
    "# returns several Subset object, which has two attributes, indices and dataset "
   ]
  },
  {
   "cell_type": "code",
   "execution_count": 63,
   "id": "4ecb4acf-3534-4a73-a42e-5dad92fb17b9",
   "metadata": {},
   "outputs": [],
   "source": [
    "training_set, validaton_set, test_set = torch.utils.data.random_split(dataset, [1260, 420, 420], generator=torch.Generator().manual_seed(42))"
   ]
  }
 ],
 "metadata": {
  "kernelspec": {
   "display_name": "Python 3",
   "language": "python",
   "name": "python3"
  },
  "language_info": {
   "codemirror_mode": {
    "name": "ipython",
    "version": 3
   },
   "file_extension": ".py",
   "mimetype": "text/x-python",
   "name": "python",
   "nbconvert_exporter": "python",
   "pygments_lexer": "ipython3",
   "version": "3.8.8"
  }
 },
 "nbformat": 4,
 "nbformat_minor": 5
}
