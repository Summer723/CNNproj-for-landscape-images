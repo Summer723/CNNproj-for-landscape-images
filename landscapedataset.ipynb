{
 "cells": [
  {
   "cell_type": "code",
   "execution_count": 34,
   "id": "3f15d991-7bcb-4074-ba06-562331f34652",
   "metadata": {},
   "outputs": [],
   "source": [
    "import torch\n",
    "from torch.utils.data import Dataset, DataLoader\n",
    "import os\n",
    "import pandas as pd\n",
    "from torchvision.io import read_image\n",
    "from PIL import Image\n",
    "from torchvision.transforms import ToTensor\n",
    "import re"
   ]
  },
  {
   "cell_type": "code",
   "execution_count": 35,
   "id": "58ddf923-a9d8-4746-b999-501ed7fb145a",
   "metadata": {},
   "outputs": [],
   "source": [
    "# here we want to write a dataloader for the dataset such that it would be easier to use later "
   ]
  },
  {
   "cell_type": "code",
   "execution_count": 51,
   "id": "d592bf1e-78f9-40a7-a938-3cf0e68c185f",
   "metadata": {},
   "outputs": [],
   "source": [
    "category = {\n",
    "            'forest': 0, 'buildings': 1, 'river': 2, 'mobilehomepark': 3,\n",
    "             'harbor': 4, 'golfcourse': 5, 'agricultural': 6, \n",
    "             'runway': 7, 'baseballdiamond' : 8, 'overpass' : 9, 'chaparral':10, \n",
    "             'tenniscourt':11, 'intersection':12, 'airplane':13, 'parkinglot':14, \n",
    "             'sparseresidential':15, 'mediumresidential':16, 'denseresidential':17, \n",
    "             'beach':18, 'freeway':19, 'storagetanks':20\n",
    "}\n"
   ]
  },
  {
   "cell_type": "code",
   "execution_count": 59,
   "id": "d982ccd9-b53f-49db-a54f-36022b6dce93",
   "metadata": {},
   "outputs": [],
   "source": [
    "data = os.listdir(\"/Users/summer/desktop/CNNproj-for-landscape-images/data/UCMerced_LandUse/WholeDataset\")\n",
    "labels = torch.zeros(len(data))\n",
    "for i in range (len(data)):\n",
    "    labels[i] = category[re.findall('([a-zA-Z ]+)\\d*.*', data[i])[0]]"
   ]
  },
  {
   "cell_type": "raw",
   "id": "240d268a-57c2-444d-ab03-a86c8e349d76",
   "metadata": {},
   "source": []
  },
  {
   "cell_type": "code",
   "execution_count": 26,
   "id": "ba3cd190-26c3-4ee2-b004-55e895a8cab9",
   "metadata": {},
   "outputs": [],
   "source": [
    "class LandscapeDataset(Dataset):\n",
    "    # here label is a 100 element tensor\n",
    "    def __init__(self, label, img_dir, transform=None, target_transform=None):\n",
    "        self.img_labels = label\n",
    "        self.img_dir = img_dir\n",
    "        self.transform = transform\n",
    "        self.target_transform = target_transform\n",
    "\n",
    "    def __len__(self):\n",
    "        return len(self.img_labels)\n",
    "\n",
    "    def __getitem__(self, idx):\n",
    "        #img_path = os.path.join(self.img_dir, self.img_labels.iloc[idx, 0])\n",
    "        path_to_data = self.img_dir + \"/\" + os.listdir(self.img_dir)[idx]\n",
    "        image = Image.open(path_to_data)\n",
    "        \n",
    "        # make it a tensor\n",
    "        image = ToTensor()(image)\n",
    "        label = self.img_labels[idx]\n",
    "        \n",
    "        if self.transform:\n",
    "            image = self.transform(image)\n",
    "        if self.target_transform:\n",
    "            label = self.target_transform(label)\n",
    "        return image, label"
   ]
  },
  {
   "cell_type": "code",
   "execution_count": 63,
   "id": "d52046ee-4348-4bd3-a69e-e4e669560560",
   "metadata": {},
   "outputs": [],
   "source": [
    "dataset = LandscapeDataset(\n",
    "                            labels, \n",
    "                           \"/Users/summer/desktop/CNNproj-for-landscape-images/data/UCMerced_LandUse/WholeDataset\",\n",
    "                          )"
   ]
  },
  {
   "cell_type": "code",
   "execution_count": 62,
   "id": "8095c3a1-b8d7-4f4d-87d2-389ec8b5ab25",
   "metadata": {},
   "outputs": [
    {
     "name": "stdout",
     "output_type": "stream",
     "text": [
      "sparseresidential19.tif\n"
     ]
    },
    {
     "data": {
      "text/plain": [
       "(tensor([[[0.5608, 0.5137, 0.5529,  ..., 0.4980, 0.4314, 0.4431],\n",
       "          [0.5569, 0.4941, 0.6078,  ..., 0.6235, 0.5843, 0.4275],\n",
       "          [0.5255, 0.4275, 0.5725,  ..., 0.5451, 0.5686, 0.4745],\n",
       "          ...,\n",
       "          [0.3765, 0.4000, 0.4039,  ..., 0.4471, 0.4235, 0.4235],\n",
       "          [0.4078, 0.3922, 0.4000,  ..., 0.4431, 0.4275, 0.4314],\n",
       "          [0.4118, 0.4196, 0.4235,  ..., 0.3922, 0.4078, 0.3882]],\n",
       " \n",
       "         [[0.5216, 0.4784, 0.5137,  ..., 0.4235, 0.3569, 0.3725],\n",
       "          [0.5137, 0.4549, 0.5686,  ..., 0.5490, 0.5137, 0.3569],\n",
       "          [0.4824, 0.3843, 0.5294,  ..., 0.4706, 0.4980, 0.4078],\n",
       "          ...,\n",
       "          [0.4235, 0.4431, 0.4510,  ..., 0.4824, 0.4588, 0.4667],\n",
       "          [0.4588, 0.4431, 0.4510,  ..., 0.4784, 0.4667, 0.4784],\n",
       "          [0.4667, 0.4745, 0.4784,  ..., 0.4314, 0.4510, 0.4353]],\n",
       " \n",
       "         [[0.4784, 0.4314, 0.4667,  ..., 0.3882, 0.3255, 0.3412],\n",
       "          [0.4745, 0.4157, 0.5255,  ..., 0.5137, 0.4784, 0.3255],\n",
       "          [0.4431, 0.3490, 0.4902,  ..., 0.4353, 0.4627, 0.3765],\n",
       "          ...,\n",
       "          [0.3098, 0.3294, 0.3373,  ..., 0.3882, 0.3647, 0.3686],\n",
       "          [0.3412, 0.3255, 0.3373,  ..., 0.3804, 0.3647, 0.3725],\n",
       "          [0.3490, 0.3569, 0.3608,  ..., 0.3294, 0.3490, 0.3294]]]),\n",
       " tensor(15.))"
      ]
     },
     "execution_count": 62,
     "metadata": {},
     "output_type": "execute_result"
    }
   ],
   "source": []
  },
  {
   "cell_type": "code",
   "execution_count": null,
   "id": "8606f734-6a36-47cb-b728-97b2ba99bf76",
   "metadata": {},
   "outputs": [],
   "source": []
  },
  {
   "cell_type": "code",
   "execution_count": 3,
   "id": "b45824f2-71da-4844-87ed-402dd068e267",
   "metadata": {},
   "outputs": [],
   "source": []
  },
  {
   "cell_type": "code",
   "execution_count": 4,
   "id": "3221c11f-f22e-46bd-9452-2df5c6aa2d60",
   "metadata": {},
   "outputs": [
    {
     "name": "stdout",
     "output_type": "stream",
     "text": [
      "32\n"
     ]
    }
   ],
   "source": []
  },
  {
   "cell_type": "code",
   "execution_count": null,
   "id": "c434f7ce-4937-45ab-88de-b59337c304ec",
   "metadata": {},
   "outputs": [],
   "source": []
  }
 ],
 "metadata": {
  "kernelspec": {
   "display_name": "Python 3",
   "language": "python",
   "name": "python3"
  },
  "language_info": {
   "codemirror_mode": {
    "name": "ipython",
    "version": 3
   },
   "file_extension": ".py",
   "mimetype": "text/x-python",
   "name": "python",
   "nbconvert_exporter": "python",
   "pygments_lexer": "ipython3",
   "version": "3.8.8"
  }
 },
 "nbformat": 4,
 "nbformat_minor": 5
}
