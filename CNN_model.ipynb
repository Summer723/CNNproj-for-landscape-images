{
 "cells": [
  {
   "cell_type": "code",
   "execution_count": 8,
   "id": "6f40be53-2510-427c-ab94-c984155a0e2c",
   "metadata": {},
   "outputs": [],
   "source": [
    "# packages \n",
    "import torch"
   ]
  },
  {
   "cell_type": "code",
   "execution_count": 9,
   "id": "80c578c1-a51b-43c8-a00c-97ac9618b877",
   "metadata": {},
   "outputs": [],
   "source": [
    "import torch.nn as nn\n",
    "import torch.nn.functional as F\n",
    "\n",
    "\n",
    "class Net(nn.Module):\n",
    "    def __init__(self):\n",
    "        super().__init__()\n",
    "        self.conv1 = nn.Conv2d(3, 32, (3, 3),padding=\"same\")\n",
    "        self.conv2 = nn.Conv2d(32, 64, (3,3),padding='same')\n",
    "        self.relu = nn.ReLU()\n",
    "        self.pool = nn.MaxPool2d(2, 2)\n",
    "        self.fc = nn.Linear(16384, 5)\n",
    "\n",
    "    def forward(self, x):\n",
    "        x = self.pool(self.relu(self.conv1(x)))\n",
    "        x = self.pool(self.relu(self.conv2(x)))\n",
    "        x = torch.flatten(x, 1) # flatten all dimensions except batch\n",
    "        x = self.fc(x)\n",
    "        x = nn.Softmax(x, dim=1)\n",
    "        return x\n",
    "    \n"
   ]
  },
  {
   "cell_type": "code",
   "execution_count": 10,
   "id": "53f86e01-7c55-49e7-a8ed-56b7d4808898",
   "metadata": {},
   "outputs": [],
   "source": [
    "#CLASS torch.nn.Conv2d(in_channels, out_channels, kernel_size, stride=1, \n",
    "#                      padding=0, dilation=1, groups=1, bias=True,\n",
    "#                      padding_mode='zeros', device=None, dtype=None)\n",
    "\n"
   ]
  },
  {
   "cell_type": "code",
   "execution_count": 7,
   "id": "3c6d0f44-cc5c-4e06-984a-081439b77a45",
   "metadata": {},
   "outputs": [],
   "source": [
    "# CLASS torch.nn.MaxPool2d(kernel_size, stride=None, padding=0, \n",
    "#                          dilation=1, return_indices=False, ceil_mode=False)"
   ]
  },
  {
   "cell_type": "code",
   "execution_count": null,
   "id": "f0ea7fe0-2b96-414d-951c-c75b05c2b6be",
   "metadata": {},
   "outputs": [],
   "source": []
  },
  {
   "cell_type": "code",
   "execution_count": null,
   "id": "acb738d0-3789-4e91-9ade-436bcad12889",
   "metadata": {},
   "outputs": [],
   "source": []
  },
  {
   "cell_type": "code",
   "execution_count": null,
   "id": "50326ed2-270f-4571-b03a-8a64606b6d88",
   "metadata": {},
   "outputs": [],
   "source": []
  }
 ],
 "metadata": {
  "kernelspec": {
   "display_name": "Python 3",
   "language": "python",
   "name": "python3"
  },
  "language_info": {
   "codemirror_mode": {
    "name": "ipython",
    "version": 3
   },
   "file_extension": ".py",
   "mimetype": "text/x-python",
   "name": "python",
   "nbconvert_exporter": "python",
   "pygments_lexer": "ipython3",
   "version": "3.8.8"
  }
 },
 "nbformat": 4,
 "nbformat_minor": 5
}
