{
 "cells": [
  {
   "cell_type": "code",
   "execution_count": 1,
   "id": "3f15d991-7bcb-4074-ba06-562331f34652",
   "metadata": {},
   "outputs": [],
   "source": [
    "import torch"
   ]
  },
  {
   "cell_type": "code",
   "execution_count": 2,
   "id": "070fbd26-5720-4a5d-90dc-964b2ecb9ce2",
   "metadata": {},
   "outputs": [],
   "source": [
    "# here we want to write a dataloader for the dataset such that it would be easier to use later "
   ]
  },
  {
   "cell_type": "code",
   "execution_count": null,
   "id": "ba3cd190-26c3-4ee2-b004-55e895a8cab9",
   "metadata": {},
   "outputs": [],
   "source": []
  }
 ],
 "metadata": {
  "kernelspec": {
   "display_name": "Python 3",
   "language": "python",
   "name": "python3"
  },
  "language_info": {
   "codemirror_mode": {
    "name": "ipython",
    "version": 3
   },
   "file_extension": ".py",
   "mimetype": "text/x-python",
   "name": "python",
   "nbconvert_exporter": "python",
   "pygments_lexer": "ipython3",
   "version": "3.8.8"
  }
 },
 "nbformat": 4,
 "nbformat_minor": 5
}
